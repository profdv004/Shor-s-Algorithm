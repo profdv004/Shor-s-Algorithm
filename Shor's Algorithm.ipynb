{
  "nbformat": 4,
  "nbformat_minor": 0,
  "metadata": {
    "kernelspec": {
      "display_name": "Python 3",
      "language": "python",
      "name": "python3"
    },
    "language_info": {
      "codemirror_mode": {
        "name": "ipython",
        "version": 3
      },
      "file_extension": ".py",
      "mimetype": "text/x-python",
      "name": "python",
      "nbconvert_exporter": "python",
      "pygments_lexer": "ipython3",
      "version": "3.8.3"
    },
    "colab": {
      "name": "ex4.ipynb",
      "provenance": [],
      "include_colab_link": true
    }
  },
  "cells": [
    {
      "cell_type": "markdown",
      "metadata": {
        "id": "view-in-github",
        "colab_type": "text"
      },
      "source": [
        "<a href=\"https://colab.research.google.com/github/profdv004/Shor-s-Algorithm/blob/main/ex4.ipynb\" target=\"_parent\"><img src=\"https://colab.research.google.com/assets/colab-badge.svg\" alt=\"Open In Colab\"/></a>"
      ]
    },
    {
      "cell_type": "markdown",
      "metadata": {
        "id": "rYYKGnXudZml"
      },
      "source": [
        "### Installing necessary packages"
      ]
    },
    {
      "cell_type": "markdown",
      "metadata": {
        "id": "S1CBZ32PdZml"
      },
      "source": [
        "Before we begin, you will need to install some prerequisites into your environment. Run the cell below to complete these installations. At the end, the cell outputs will be cleared."
      ]
    },
    {
      "cell_type": "code",
      "metadata": {
        "id": "xkUz_u7idZmm"
      },
      "source": [
        "!pip install qiskit\n",
        "from IPython.display import clear_output\n",
        "clear_output()"
      ],
      "execution_count": null,
      "outputs": []
    },
    {
      "cell_type": "markdown",
      "metadata": {
        "id": "8mfal0tUdZmp"
      },
      "source": [
        "# Review of Shor's Algorithm"
      ]
    },
    {
      "cell_type": "markdown",
      "metadata": {
        "id": "2-XVLGZ6dZmq"
      },
      "source": [
        "Shor's algorithm can be used to factor numbers $N$ that are products of the form \n",
        "\n",
        "$$N = pq$$\n",
        "\n",
        "where $p$ and $q$ are prime numbers. This is done in four main steps, similar to the implementation of quantum phase estimation. In this case, we will use two registers of qubits. The first register will have $n$ qubits, and will contain the measurement qubits. The second register will have $m$ qubits, and will be the eigenstate for quantum phase estimation. \n",
        "\n",
        "1. First, we begin by initializing our qubits. We create a superposition of all $2^n$ computational basis states on the $n$ measurement qubits by applying a Hadamard ($H$) gate on each qubit starting off in the state $\\vert0\\rangle^{\\otimes n}$. We also initialize the $m$ target qubits in the state $\\vert1\\rangle$. Here, the exponent $\\otimes n$ means that we have a tensor product of the states of $n$ qubits.\n",
        "\n",
        "2. Second, we apply the unitary operator $U$ with various powers onto the target qubits by controlling it with each of the different measurement qubits. The unitary operator in this case implements modular exponentiation. The schematic above shows the ordering and respective powers.\n",
        "\n",
        "3. Third, we apply an inverse quantum Fourier transform on the $n$ measurement qubits.\n",
        "\n",
        "4. Finally, we measure the first $n$ qubits.\n",
        "\n",
        "After the measurement outcomes are determined, we will need to do additional classical post-processing in order to determine the factors or to decide to run the program again."
      ]
    },
    {
      "cell_type": "markdown",
      "metadata": {
        "id": "43n55xOWdZmr"
      },
      "source": [
        "### 1. Initializing the qubits\n",
        "\n",
        "We will need to initialize our qubits as described above by applying a Hadamard gate on each of the $n$ measurement qubits. We will also set the target qubits to $\\vert1\\rangle$, since that is the eigenstate onto which the unitary operator $U$ will be applied. Here, $\\vert1\\rangle$ is initialized by applying an $X$ gate on the last qubit.\n",
        "\n",
        "We have created a function below called `initialize_qubits` which takes in three arguments. The first argument is the quantum circuit onto which the gates will be applied. The second argument, `n`, is the number of measurement qubits. The third argument, `m`, is the number of target qubits for the unitary operator."
      ]
    },
    {
      "cell_type": "code",
      "metadata": {
        "id": "u7z4VkIXdZmr"
      },
      "source": [
        "def initialize_qubits(given_circuit, n, m):\n",
        "    \n",
        "    given_circuit.h(range(n))\n",
        "    given_circuit.x(n+m-1)\n",
        "    return given_circuit"
      ],
      "execution_count": null,
      "outputs": []
    },
    {
      "cell_type": "markdown",
      "metadata": {
        "id": "6uwPZnRWdZmt"
      },
      "source": [
        "### 2. Modular exponentiation\n",
        "\n",
        "We have created a function called `a_x_mod15` below which takes in two arguments, `a` and `x`, and implements the unitary operator $$U = a^x \\text{ mod } 15$$\n",
        "\n",
        "**You do not need to modify this function.**"
      ]
    },
    {
      "cell_type": "code",
      "metadata": {
        "id": "qt_TmaeSdZmu"
      },
      "source": [
        "from qiskit import QuantumCircuit\n",
        "\n",
        "def a_x_mod21(a, x):\n",
        "    if a not in [2,7,8,11,13]:\n",
        "        raise ValueError(\"'a' must be 2,7,8,11 or 13\")\n",
        "    U = QuantumCircuit(4)        \n",
        "    for iteration in range(x):\n",
        "        if a in [2,13]:\n",
        "            U.swap(0,1)\n",
        "            U.swap(1,2)\n",
        "            U.swap(2,3)\n",
        "        if a in [7,8]:\n",
        "            U.swap(2,3)\n",
        "            U.swap(1,2)\n",
        "            U.swap(0,1)\n",
        "        if a == 11:\n",
        "            U.swap(1,3)\n",
        "            U.swap(0,2)\n",
        "        if a in [7,11,13]:\n",
        "            for q in range(4):\n",
        "                U.x(q)\n",
        "    U = U.to_gate()\n",
        "    U.name = \"%i^%i mod 15\" % (a, x)\n",
        "    c_U = U.control()\n",
        "    return c_U\n"
      ],
      "execution_count": null,
      "outputs": []
    },
    {
      "cell_type": "markdown",
      "metadata": {
        "id": "7iw5D87GdZmw"
      },
      "source": [
        "Note that the function `a_x_mod15` creates a 4-qubit unitary controlled by an additional fifth qubit. In order to use this gate, you will need to append it to your quantum circuit using `Qiskit`'s `circuit.append()` function by passing in the five qubits in a list containing the control qubit first, followed by the four target qubits.\n",
        "\n",
        "Below, we have created a function called `modular_exponentiation` which takes in four arguments. The first argument, `given_circuit`, is the circuit onto which modular exponentiation will be applied. The next two arguments, `n` and `m`, are the numbers of measurement and target qubits. The schematic above for Shor's algorithm will be useful here. The last argument, `a`, is the base of the modular exponentiation. You will need to call the function `a_x_mod15` as needed in the function below."
      ]
    },
    {
      "cell_type": "code",
      "metadata": {
        "id": "PxPWSsk3dZmx"
      },
      "source": [
        "from qiskit import QuantumCircuit\n",
        "import numpy as np\n",
        "def modular_exponentiation(given_circuit, n, m, a):\n",
        "    \n",
        "    if a not in [2,7,8,11,13]:\n",
        "        raise ValueError(\"'a' must be 2,7,8,11 or 13\")\n",
        "    c=a\n",
        "    x=0\n",
        "    q=n-1\n",
        "    given_circuit.append(a_x_mod21(a,2**x),[q] + [i+n for i in range(4)])\n",
        "    x+=1\n",
        "    for q in range(n-2,-1,-1):\n",
        "        given_circuit.append(a_x_mod21(a,2**x),[q] + [i+n for i in range(4)])\n",
        "        c = np.mod(c**2, 15)\n",
        "        if(c==1):\n",
        "          continue\n",
        "        else:\n",
        "          x+=1 \n",
        "    \n",
        "    return given_circuit\n",
        "    "
      ],
      "execution_count": null,
      "outputs": []
    },
    {
      "cell_type": "markdown",
      "metadata": {
        "id": "zq0ulskFdZmz"
      },
      "source": [
        "### 3. Implementing the inverse quantum Fourier transform\n",
        "\n",
        "The last step before measuring the first $n$ qubits is the implementation of the inverse quantum Fourier transform. "
      ]
    },
    {
      "cell_type": "code",
      "metadata": {
        "id": "aXRgptKkdZm0"
      },
      "source": [
        "from qiskit.circuit.library import QFT"
      ],
      "execution_count": null,
      "outputs": []
    },
    {
      "cell_type": "code",
      "metadata": {
        "id": "TPXAXNikdZm4"
      },
      "source": [
        "def apply_iqft(given_circuit, measurement_qubits):\n",
        "    n=len(measurement_qubits)\n",
        "    given_circuit.append(QFT(n).inverse(),measurement_qubits)\n",
        "    return given_circuit"
      ],
      "execution_count": null,
      "outputs": []
    },
    {
      "cell_type": "markdown",
      "metadata": {
        "id": "elimqvdRdZm6"
      },
      "source": [
        "### 4. Putting it all together\n",
        "\n",
        "Finally, we combine the functions to construct the quantum program that implements Shor's algorithm."
      ]
    },
    {
      "cell_type": "code",
      "metadata": {
        "id": "96NSmyIVdZm7"
      },
      "source": [
        "from qiskit import QuantumCircuit"
      ],
      "execution_count": null,
      "outputs": []
    },
    {
      "cell_type": "code",
      "metadata": {
        "id": "fb8ReP2ZdZm9",
        "outputId": "b7fa39c0-8e13-4798-f32e-dc171a89fc87",
        "colab": {
          "base_uri": "https://localhost:8080/",
          "height": 594
        }
      },
      "source": [
        "def shor_program(n, m, a):\n",
        "    \n",
        "    # set up quantum circuit\n",
        "    shor = QuantumCircuit(n+m, n)\n",
        "    \n",
        "    # initialize the qubits\n",
        "    initialize_qubits(shor, n, m)\n",
        "    shor.barrier()\n",
        "\n",
        "    # apply modular exponentiation\n",
        "    modular_exponentiation(shor, n, m, a)\n",
        "    shor.barrier()\n",
        "\n",
        "    # apply inverse QFT\n",
        "    apply_iqft(shor, range(n))\n",
        "\n",
        "    # measure the first n qubits\n",
        "    shor.measure(range(n), range(n))\n",
        "    \n",
        "    return shor\n",
        "\n",
        "n =4; m = 4; a = 7\n",
        "mycircuit = shor_program(n, m, a)\n",
        "mycircuit.draw(output='text')"
      ],
      "execution_count": null,
      "outputs": [
        {
          "output_type": "execute_result",
          "data": {
            "text/html": [
              "<pre style=\"word-wrap: normal;white-space: pre;background: #fff0;line-height: 1.1;font-family: &quot;Courier New&quot;,Courier,monospace\">     ┌───┐ ░                                                              ░ »\n",
              "q_0: ┤ H ├─░─────────────────────────────────────────────────────■────────░─»\n",
              "     ├───┤ ░                                                     │        ░ »\n",
              "q_1: ┤ H ├─░──────────────────────────────────────■──────────────┼────────░─»\n",
              "     ├───┤ ░                                      │              │        ░ »\n",
              "q_2: ┤ H ├─░───────────────────────■──────────────┼──────────────┼────────░─»\n",
              "     ├───┤ ░                       │              │              │        ░ »\n",
              "q_3: ┤ H ├─░────────■──────────────┼──────────────┼──────────────┼────────░─»\n",
              "     └───┘ ░ ┌──────┴──────┐┌──────┴──────┐┌──────┴──────┐┌──────┴──────┐ ░ »\n",
              "q_4: ──────░─┤0            ├┤0            ├┤0            ├┤0            ├─░─»\n",
              "           ░ │             ││             ││             ││             │ ░ »\n",
              "q_5: ──────░─┤1            ├┤1            ├┤1            ├┤1            ├─░─»\n",
              "           ░ │  7^1 mod 15 ││  7^2 mod 15 ││  7^4 mod 15 ││  7^4 mod 15 │ ░ »\n",
              "q_6: ──────░─┤2            ├┤2            ├┤2            ├┤2            ├─░─»\n",
              "     ┌───┐ ░ │             ││             ││             ││             │ ░ »\n",
              "q_7: ┤ X ├─░─┤3            ├┤3            ├┤3            ├┤3            ├─░─»\n",
              "     └───┘ ░ └─────────────┘└─────────────┘└─────────────┘└─────────────┘ ░ »\n",
              "c: 4/═══════════════════════════════════════════════════════════════════════»\n",
              "                                                                            »\n",
              "«     ┌───────┐┌─┐         \n",
              "«q_0: ┤0      ├┤M├─────────\n",
              "«     │       │└╥┘┌─┐      \n",
              "«q_1: ┤1      ├─╫─┤M├──────\n",
              "«     │  iqft │ ║ └╥┘┌─┐   \n",
              "«q_2: ┤2      ├─╫──╫─┤M├───\n",
              "«     │       │ ║  ║ └╥┘┌─┐\n",
              "«q_3: ┤3      ├─╫──╫──╫─┤M├\n",
              "«     └───────┘ ║  ║  ║ └╥┘\n",
              "«q_4: ──────────╫──╫──╫──╫─\n",
              "«               ║  ║  ║  ║ \n",
              "«q_5: ──────────╫──╫──╫──╫─\n",
              "«               ║  ║  ║  ║ \n",
              "«q_6: ──────────╫──╫──╫──╫─\n",
              "«               ║  ║  ║  ║ \n",
              "«q_7: ──────────╫──╫──╫──╫─\n",
              "«               ║  ║  ║  ║ \n",
              "«c: 4/══════════╩══╩══╩══╩═\n",
              "«               0  1  2  3 </pre>"
            ],
            "text/plain": [
              "     ┌───┐ ░                                                              ░ »\n",
              "q_0: ┤ H ├─░─────────────────────────────────────────────────────■────────░─»\n",
              "     ├───┤ ░                                                     │        ░ »\n",
              "q_1: ┤ H ├─░──────────────────────────────────────■──────────────┼────────░─»\n",
              "     ├───┤ ░                                      │              │        ░ »\n",
              "q_2: ┤ H ├─░───────────────────────■──────────────┼──────────────┼────────░─»\n",
              "     ├───┤ ░                       │              │              │        ░ »\n",
              "q_3: ┤ H ├─░────────■──────────────┼──────────────┼──────────────┼────────░─»\n",
              "     └───┘ ░ ┌──────┴──────┐┌──────┴──────┐┌──────┴──────┐┌──────┴──────┐ ░ »\n",
              "q_4: ──────░─┤0            ├┤0            ├┤0            ├┤0            ├─░─»\n",
              "           ░ │             ││             ││             ││             │ ░ »\n",
              "q_5: ──────░─┤1            ├┤1            ├┤1            ├┤1            ├─░─»\n",
              "           ░ │  7^1 mod 15 ││  7^2 mod 15 ││  7^4 mod 15 ││  7^4 mod 15 │ ░ »\n",
              "q_6: ──────░─┤2            ├┤2            ├┤2            ├┤2            ├─░─»\n",
              "     ┌───┐ ░ │             ││             ││             ││             │ ░ »\n",
              "q_7: ┤ X ├─░─┤3            ├┤3            ├┤3            ├┤3            ├─░─»\n",
              "     └───┘ ░ └─────────────┘└─────────────┘└─────────────┘└─────────────┘ ░ »\n",
              "c: 4/═══════════════════════════════════════════════════════════════════════»\n",
              "                                                                            »\n",
              "«     ┌───────┐┌─┐         \n",
              "«q_0: ┤0      ├┤M├─────────\n",
              "«     │       │└╥┘┌─┐      \n",
              "«q_1: ┤1      ├─╫─┤M├──────\n",
              "«     │  iqft │ ║ └╥┘┌─┐   \n",
              "«q_2: ┤2      ├─╫──╫─┤M├───\n",
              "«     │       │ ║  ║ └╥┘┌─┐\n",
              "«q_3: ┤3      ├─╫──╫──╫─┤M├\n",
              "«     └───────┘ ║  ║  ║ └╥┘\n",
              "«q_4: ──────────╫──╫──╫──╫─\n",
              "«               ║  ║  ║  ║ \n",
              "«q_5: ──────────╫──╫──╫──╫─\n",
              "«               ║  ║  ║  ║ \n",
              "«q_6: ──────────╫──╫──╫──╫─\n",
              "«               ║  ║  ║  ║ \n",
              "«q_7: ──────────╫──╫──╫──╫─\n",
              "«               ║  ║  ║  ║ \n",
              "«c: 4/══════════╩══╩══╩══╩═\n",
              "«               0  1  2  3 "
            ]
          },
          "metadata": {
            "tags": []
          },
          "execution_count": 210
        }
      ]
    },
    {
      "cell_type": "markdown",
      "metadata": {
        "id": "vp7aiZKgdZm_"
      },
      "source": [
        "That's it! In order to run your quantum circuit and get the measurement outcomes, you simply need to run `Qiskit`'s `execute` function as follows."
      ]
    },
    {
      "cell_type": "code",
      "metadata": {
        "id": "nYisCV4qdZnA",
        "outputId": "cc5dbf8c-26aa-484c-f519-572feb7b502c",
        "colab": {
          "base_uri": "https://localhost:8080/",
          "height": 348
        }
      },
      "source": [
        "from qiskit import Aer, execute\n",
        "simulator = Aer.get_backend('qasm_simulator')\n",
        "counts = execute(mycircuit, backend=simulator, shots=1000).result().get_counts(mycircuit)\n",
        "from qiskit.visualization import plot_histogram\n",
        "plot_histogram(counts)"
      ],
      "execution_count": null,
      "outputs": [
        {
          "output_type": "execute_result",
          "data": {
            "image/png": "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\n",
            "text/plain": [
              "<Figure size 504x360 with 1 Axes>"
            ]
          },
          "metadata": {
            "tags": []
          },
          "execution_count": 211
        }
      ]
    },
    {
      "cell_type": "code",
      "metadata": {
        "id": "L4_nR_WJdZnC",
        "outputId": "5b37430e-b399-4eae-b3a1-d343c6d17a4b",
        "colab": {
          "base_uri": "https://localhost:8080/",
          "height": 84
        }
      },
      "source": [
        "for measured_value in counts:\n",
        "    print(f\"Measured {int(measured_value[::-1], 2)}\")"
      ],
      "execution_count": null,
      "outputs": [
        {
          "output_type": "stream",
          "text": [
            "Measured 0\n",
            "Measured 8\n",
            "Measured 4\n",
            "Measured 12\n"
          ],
          "name": "stdout"
        }
      ]
    },
    {
      "cell_type": "markdown",
      "metadata": {
        "id": "aYb4c9MVdZnF"
      },
      "source": [
        "\n",
        "\n",
        "#### Classical post-processing\n",
        "\n",
        "Recall that in order to factor the number $N = pq$, we used a number $a$ coprime with $N$ and computed the period of $a^x \\text{ mod } N$.\n",
        "\n",
        "We will use the sequence of steps outlined in Article to guess the factors of $N$ using the measurement outcomes."
      ]
    },
    {
      "cell_type": "code",
      "metadata": {
        "id": "R3FH_I5ldZnF",
        "cellView": "both",
        "outputId": "218ea8f9-b4d6-4efc-a6ca-453fc1df713d",
        "colab": {
          "base_uri": "https://localhost:8080/",
          "height": 218
        }
      },
      "source": [
        "from math import gcd\n",
        "\n",
        "for measured_value in counts:\n",
        "    measured_value_decimal = int(measured_value[::-1], 2)\n",
        "    print(f\"Measured {measured_value_decimal}\")\n",
        "    \n",
        "    if measured_value_decimal % 2 != 0:\n",
        "        print(\"Failed. Measured value is not an even number\")\n",
        "        continue\n",
        "    x = int((a ** (measured_value_decimal/2)) % 15)\n",
        "    print(x)\n",
        "    if (x + 1) % 15 == 0:\n",
        "        print(\"Failed. x + 1 (mod N) = 0 where x = a^(r/2) (mod N)\")\n",
        "        continue\n",
        "    guesses = gcd(x + 1, 15), gcd(x - 1, 15)\n",
        "    print(guesses)"
      ],
      "execution_count": null,
      "outputs": [
        {
          "output_type": "stream",
          "text": [
            "Measured 0\n",
            "1\n",
            "(1, 15)\n",
            "Measured 8\n",
            "1\n",
            "(1, 15)\n",
            "Measured 4\n",
            "4\n",
            "(5, 3)\n",
            "Measured 12\n",
            "4\n",
            "(5, 3)\n"
          ],
          "name": "stdout"
        }
      ]
    },
    {
      "cell_type": "markdown",
      "metadata": {
        "id": "JMaTzgredZnL"
      },
      "source": [
        "# Additional reading\n",
        "\n",
        "- The first experimental demonstration of Shor's algorithm was completed by researchers at IBM and Stanford in 2001 using an experimental platform called nuclear magnetic resonance. You can find the paper here: https://www.nature.com/articles/414883a\n",
        "- For additional details on the method of continued fractions, you may refer to this page (https://riliu.math.ncsu.edu/437/notes3se4.html) or any standard reference such as Mermin's Quantum Computer Science text.\n"
        "- Thanks to QGSS for this"
      ]
    }
  ]
}
